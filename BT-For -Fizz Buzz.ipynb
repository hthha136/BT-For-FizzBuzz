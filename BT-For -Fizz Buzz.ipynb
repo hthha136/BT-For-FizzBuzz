{
 "cells": [
  {
   "cell_type": "code",
   "execution_count": 2,
   "id": "41cc303f",
   "metadata": {},
   "outputs": [
    {
     "name": "stdout",
     "output_type": "stream",
     "text": [
      "nhập đầu: 2\n",
      "nhập cuối: 16\n",
      "2 Fizz 4 Buzz Fizz 7 8 Fizz Buzz 11 Fizz 13 14 FizzBuzz 16 "
     ]
    }
   ],
   "source": [
    "a = int(input('nhập đầu: '))\n",
    "b = int(input('nhập cuối: '))\n",
    "\n",
    "for i in range (a,b+1):\n",
    "    if i%3 == 0 and i%5 ==0:\n",
    "        print('FizzBuzz',end =' ')\n",
    "    elif i%3 == 0:\n",
    "        print('Fizz',end =' ')\n",
    "    elif i%5 ==0:\n",
    "        print('Buzz',end =' ')\n",
    "    else:\n",
    "        print(i,end =' ')"
   ]
  }
 ],
 "metadata": {
  "kernelspec": {
   "display_name": "Python 3 (ipykernel)",
   "language": "python",
   "name": "python3"
  },
  "language_info": {
   "codemirror_mode": {
    "name": "ipython",
    "version": 3
   },
   "file_extension": ".py",
   "mimetype": "text/x-python",
   "name": "python",
   "nbconvert_exporter": "python",
   "pygments_lexer": "ipython3",
   "version": "3.10.4"
  }
 },
 "nbformat": 4,
 "nbformat_minor": 5
}
